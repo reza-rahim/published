{
  "nbformat": 4,
  "nbformat_minor": 0,
  "metadata": {
    "colab": {
      "provenance": []
    },
    "kernelspec": {
      "name": "python3",
      "display_name": "Python 3"
    },
    "language_info": {
      "name": "python"
    }
  },
  "cells": [
    {
      "cell_type": "markdown",
      "source": [
        "**type() Function**"
      ],
      "metadata": {
        "id": "ZQXulsxcCjyl"
      }
    },
    {
      "cell_type": "code",
      "source": [
        "\n",
        "DynamicClass = type('DynamicClass', (object,), {\n",
        "    'attribute': 'DynamicClass',\n",
        "    'method': lambda self, param1='Hello', param2='Bye' : print(f'Dynamic method with parameter: {param1} {param2} from {self.attribute}')\n",
        "})\n",
        "\n",
        "# Create an instance of the dynamically created class\n",
        "instance = DynamicClass()\n",
        "\n",
        "\n"
      ],
      "metadata": {
        "id": "EGAurS6a06W6"
      },
      "execution_count": 26,
      "outputs": []
    },
    {
      "cell_type": "code",
      "source": [
        "# Call the method with two argument\n",
        "instance.method('Hello, World!', 'Hello again')"
      ],
      "metadata": {
        "colab": {
          "base_uri": "https://localhost:8080/"
        },
        "id": "vzEGedRFRfNF",
        "outputId": "56f836f1-ea4a-4dfd-9c56-f1c7dd313710"
      },
      "execution_count": 27,
      "outputs": [
        {
          "output_type": "stream",
          "name": "stdout",
          "text": [
            "Dynamic method with parameter: Hello, World! Hello again from DynamicClass\n"
          ]
        }
      ]
    },
    {
      "cell_type": "code",
      "source": [
        "# Call the method with no arguments\n",
        "instance.method()"
      ],
      "metadata": {
        "colab": {
          "base_uri": "https://localhost:8080/"
        },
        "id": "yAxeNxR846tn",
        "outputId": "a5157843-8e0f-4a82-fd12-56ac90b85e44"
      },
      "execution_count": 29,
      "outputs": [
        {
          "output_type": "stream",
          "name": "stdout",
          "text": [
            "Dynamic method with parameter: Hello Bye from DynamicClass\n"
          ]
        }
      ]
    },
    {
      "cell_type": "markdown",
      "source": [
        "**Advanced Type() Usage**"
      ],
      "metadata": {
        "id": "XtR40SD3C9Ih"
      }
    },
    {
      "cell_type": "code",
      "source": [
        "def create_class_with_validation(class_name, fields):\n",
        "    def __init__(self, **kwargs):\n",
        "        for key, value in kwargs.items():\n",
        "            if key not in fields:\n",
        "                raise ValueError(f\"Invalid field: {key}\")\n",
        "            setattr(self, key, value)\n",
        "\n",
        "    def display_fields(self):\n",
        "        for field in fields:\n",
        "            print(f\"{field}: {getattr(self, field, None)}\")\n",
        "\n",
        "    return type(class_name, (object,), {\n",
        "        '__init__': __init__,\n",
        "        'fields': fields,\n",
        "        'display_fields': display_fields\n",
        "    })\n",
        "\n",
        "# Example usage:\n",
        "Person = create_class_with_validation('Person', ['name', 'age'])\n",
        "p = Person(name=\"John\", age=30)\n",
        "p.display_fields()"
      ],
      "metadata": {
        "colab": {
          "base_uri": "https://localhost:8080/"
        },
        "id": "lE7gyXsPE2Fn",
        "outputId": "54838b78-a1ad-4f65-aa68-35382d818623"
      },
      "execution_count": 44,
      "outputs": [
        {
          "output_type": "stream",
          "name": "stdout",
          "text": [
            "name: John\n",
            "age: 30\n"
          ]
        }
      ]
    },
    {
      "cell_type": "markdown",
      "source": [
        "**2. Metaclass Technique**<br>\n",
        "Custom Metaclass Implementation"
      ],
      "metadata": {
        "id": "SSghWhnTF2pK"
      }
    },
    {
      "cell_type": "code",
      "source": [
        "class ValidationMeta(type):\n",
        "    def __new__(cls, name, bases, attrs):\n",
        "        ## Add custom validation logic\n",
        "        attrs['validate'] = classmethod(lambda cls, data: all(\n",
        "            key in data for key in cls.required_fields\n",
        "        ))\n",
        "        return super().__new__(cls, name, bases, attrs)\n",
        "\n",
        "class BaseModel(metaclass=ValidationMeta):\n",
        "    required_fields = []\n",
        "\n",
        "class UserModel(BaseModel):\n",
        "    required_fields = ['username', 'email']\n",
        "\n",
        "## Validation example\n",
        "print(UserModel.validate({'username': 'john', 'email': 'john@example.com'}))"
      ],
      "metadata": {
        "colab": {
          "base_uri": "https://localhost:8080/"
        },
        "id": "PHL2ZW2LF3AS",
        "outputId": "5db4aa7d-654c-4956-e598-da0cf0a34276"
      },
      "execution_count": 45,
      "outputs": [
        {
          "output_type": "stream",
          "name": "stdout",
          "text": [
            "True\n"
          ]
        }
      ]
    },
    {
      "cell_type": "markdown",
      "source": [
        "**Database Model Generation**"
      ],
      "metadata": {
        "id": "pzeocrzNIwlr"
      }
    },
    {
      "cell_type": "code",
      "source": [
        "def create_database_model(table_name, columns):\n",
        "    def __init__(self, **kwargs):\n",
        "        for col in columns:\n",
        "            setattr(self, col, kwargs.get(col))\n",
        "\n",
        "    return type(f'{table_name.capitalize()}Model', (object,), {\n",
        "        '__init__': __init__,\n",
        "        'table_name': table_name,\n",
        "        'columns': columns\n",
        "    })\n",
        "\n",
        "## Dynamic database model creation\n",
        "UserModel = create_database_model('users', ['id', 'username', 'email'])\n",
        "product_model = create_database_model('products', ['id', 'name', 'price'])"
      ],
      "metadata": {
        "id": "ynFk2oUnIyQk"
      },
      "execution_count": 46,
      "outputs": []
    },
    {
      "cell_type": "markdown",
      "source": [
        "Plugin and Extension Systems\n"
      ],
      "metadata": {
        "id": "fpSLeOIvI-L3"
      }
    },
    {
      "cell_type": "code",
      "source": [
        "class PluginManager:\n",
        "    def __init__(self):\n",
        "        self.plugins = {}\n",
        "\n",
        "    def register_plugin(self, plugin_name, plugin_methods):\n",
        "        plugin_class = type(f'{plugin_name.capitalize()}Plugin', (object,), plugin_methods)\n",
        "        self.plugins[plugin_name] = plugin_class\n",
        "\n",
        "    def get_plugin(self, plugin_name):\n",
        "        return self.plugins.get(plugin_name)\n",
        "\n",
        "## Plugin management example\n",
        "manager = PluginManager()\n",
        "manager.register_plugin('analytics', {\n",
        "    'track': lambda self, event: print(f'Tracking: {event}'),\n",
        "    'report': lambda self: print('Generating report')\n",
        "})\n",
        "\n",
        "analytics_plugin = manager.get_plugin('analytics')()\n",
        "analytics_plugin.track('user_login')"
      ],
      "metadata": {
        "colab": {
          "base_uri": "https://localhost:8080/"
        },
        "id": "p5vNK50sJNGg",
        "outputId": "2a41176a-f186-4e4b-df43-6d4d060fa53d"
      },
      "execution_count": 47,
      "outputs": [
        {
          "output_type": "stream",
          "name": "stdout",
          "text": [
            "Tracking: user_login\n"
          ]
        }
      ]
    },
    {
      "cell_type": "markdown",
      "source": [
        "3. Test Case Generation"
      ],
      "metadata": {
        "id": "f52eL9O1JRED"
      }
    },
    {
      "cell_type": "code",
      "source": [
        "def generate_test_class(test_scenarios):\n",
        "    class_methods = {}\n",
        "\n",
        "    for scenario_name, test_func in test_scenarios.items():\n",
        "        def create_test_method(func):\n",
        "            return lambda self: func()\n",
        "\n",
        "        class_methods[f'test_{scenario_name}'] = create_test_method(test_func)\n",
        "\n",
        "    return type('DynamicTestCase', (object,), class_methods)\n",
        "\n",
        "## Test scenario generation\n",
        "def test_login_success():\n",
        "    print(\"Login success scenario\")\n",
        "\n",
        "def test_login_failure():\n",
        "    print(\"Login failure scenario\")\n",
        "\n",
        "DynamicTestCase = generate_test_class({\n",
        "    'login_success': test_login_success,\n",
        "    'login_failure': test_login_failure\n",
        "})\n",
        "\n",
        "test_instance = DynamicTestCase()\n",
        "test_instance.test_login_success()"
      ],
      "metadata": {
        "colab": {
          "base_uri": "https://localhost:8080/"
        },
        "id": "JnMhSUJ4JUJO",
        "outputId": "c4f495b8-ec0e-48b9-f272-7d1c72232e7f"
      },
      "execution_count": 48,
      "outputs": [
        {
          "output_type": "stream",
          "name": "stdout",
          "text": [
            "Login success scenario\n"
          ]
        }
      ]
    },
    {
      "cell_type": "markdown",
      "source": [
        "4. API Client Generation"
      ],
      "metadata": {
        "id": "M8MOY-HJNyxl"
      }
    },
    {
      "cell_type": "code",
      "source": [
        "def create_api_client(base_url, endpoints):\n",
        "    def generate_method(endpoint, method):\n",
        "        def api_method(self, **kwargs):\n",
        "            print(f\"Calling {method.upper()} {base_url}{endpoint}\")\n",
        "            ## Actual API call implementation\n",
        "        return api_method\n",
        "\n",
        "    methods = {\n",
        "        name: generate_method(endpoint['path'], endpoint['method'])\n",
        "        for name, endpoint in endpoints.items()\n",
        "    }\n",
        "\n",
        "    return type('APIClient', (object,), methods)\n",
        "\n",
        "## API client generation\n",
        "github_client = create_api_client('https://api.github.com', {\n",
        "    'get_user': {'path': '/users', 'method': 'get'},\n",
        "    'create_repo': {'path': '/user/repos', 'method': 'post'}\n",
        "})\n",
        "\n",
        "client = github_client()\n",
        "client.get_user()"
      ],
      "metadata": {
        "colab": {
          "base_uri": "https://localhost:8080/"
        },
        "id": "Dsvi-sfBN2Qx",
        "outputId": "7a274645-3daa-43c1-d9e5-f7c064f60187"
      },
      "execution_count": 49,
      "outputs": [
        {
          "output_type": "stream",
          "name": "stdout",
          "text": [
            "Calling GET https://api.github.com/users\n"
          ]
        }
      ]
    }
  ]
}
